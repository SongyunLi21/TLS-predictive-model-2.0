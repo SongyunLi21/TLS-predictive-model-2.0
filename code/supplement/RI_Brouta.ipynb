{
 "cells": [
  {
   "cell_type": "code",
   "execution_count": 1,
   "id": "3765a971-e218-4f6f-bebd-31ec32facd86",
   "metadata": {},
   "outputs": [],
   "source": [
    "import numpy as np\n",
    "import pandas as pd\n",
    "import matplotlib.pyplot as plt"
   ]
  },
  {
   "cell_type": "code",
   "execution_count": 2,
   "id": "f4970536-22ed-4c1f-be58-3e46d868987d",
   "metadata": {},
   "outputs": [],
   "source": [
    "def transformation(Y):#把male,female转化成0,1,数据清洗\n",
    "    l=[]\n",
    "    n = 0\n",
    "    for y in Y:\n",
    "        if y =='TLS':\n",
    "            n = n+1\n",
    "            l.append(1)\n",
    "        else:\n",
    "            l.append(0)\n",
    "    print(n)\n",
    "    return np.array(l)\n",
    "def count(Y):\n",
    "    n = 0\n",
    "    for y in Y:\n",
    "        if y ==1:\n",
    "            n = n+1\n",
    "    print(n)"
   ]
  },
  {
   "cell_type": "code",
   "execution_count": 3,
   "id": "4b2b8650-583e-4b64-9393-1d565b24d398",
   "metadata": {},
   "outputs": [
    {
     "name": "stdout",
     "output_type": "stream",
     "text": [
      "199\n",
      "257\n",
      "255\n"
     ]
    }
   ],
   "source": [
    "sample = [\"c_4\",\"c_3\",\"c_36\"]\n",
    "X_list = []\n",
    "y_list = []\n",
    "Gene = []\n",
    "from sklearn.preprocessing import MinMaxScaler\n",
    "scaler = MinMaxScaler()\n",
    "#load data\n",
    "for i in range(len(sample)):\n",
    "    path = 'result/'+sample[i]+'_annotation.csv'\n",
    "    data = pd.read_csv(path)\n",
    "    c = data.shape[0]\n",
    "    path = \"result/\"+sample[i]+\"_matrix.csv\"\n",
    "    X_data = pd.read_csv(path)\n",
    "    l_gene = X_data[\"Unnamed: 0\"]\n",
    "    Gene.append(l_gene)\n",
    "    bar = X_data.columns[1:]\n",
    "    l_bar=[]\n",
    "    for j in bar:\n",
    "        j=str(j).replace(\"X\",\"\")\n",
    "        l_bar.append(j)\n",
    "    a = X_data.shape[0]\n",
    "    b = X_data.shape[1]-1\n",
    "    X_data = np.array(X_data[bar])\n",
    "    X_scaler = scaler.fit(X_data)                                   \n",
    "    X_data = X_scaler.transform(X_data)                                    \n",
    "    X_data = pd.DataFrame(X_data.T, columns = l_gene, index = l_bar)\n",
    "    X_list.append(X_data)\n",
    "    #-------创建字典----------\n",
    "    D1 = dict()\n",
    "    key = []\n",
    "    for l in range(c):\n",
    "        x = '-'+str(i)\n",
    "        key1 = data['Unnamed: 0'][l]\n",
    "        value1 = data['TLS_2_cat_annot'][l]\n",
    "        key1 = str(key1).replace('-1','.1')\n",
    "        key.append(key1)\n",
    "        D1[key1] = value1\n",
    "    #-----连接两个数据集,创建输出数据集-------\n",
    "    L1 = list()\n",
    "    for j in l_bar:\n",
    "        if j in key:\n",
    "            tls = D1[j]\n",
    "        else:\n",
    "            tls = 'NO_TLS'\n",
    "        L1.append(tls)\n",
    "    y_data = transformation(L1)\n",
    "    y_data = y_data.ravel()\n",
    "    y_list.append(y_data)\n",
    "    "
   ]
  },
  {
   "cell_type": "code",
   "execution_count": 4,
   "id": "c0be84be-5899-4194-95cc-362f00205315",
   "metadata": {},
   "outputs": [],
   "source": [
    "intersection=[]\n",
    "for i in range(len(Gene)):\n",
    "    if i==0:\n",
    "        intersection=set(Gene[i])\n",
    "    else:\n",
    "        intersection=set(intersection).intersection(set(Gene[i]))\n",
    "        \n",
    "intersection=list(intersection)\n",
    "for i in range(len(sample)):\n",
    "    X_data=X_list[i]\n",
    "    y_data=y_list[i]\n",
    "    X_data=X_data[intersection]\n",
    "    X_data = np.array(X_data).tolist()\n",
    "    y_data = np.array(y_data).tolist()\n",
    "    if i==0:\n",
    "        X = X_data\n",
    "        y = y_data\n",
    "    else:\n",
    "        X = X + X_data\n",
    "        y = y + y_data\n",
    "\n",
    "X = pd.DataFrame(X)\n",
    "X = np.array(X)\n",
    "y = np.array(y)\n",
    "X = pd.DataFrame(X,columns = intersection)"
   ]
  },
  {
   "cell_type": "code",
   "execution_count": 5,
   "id": "56f96890-6456-4871-bf67-ff1cd48f830c",
   "metadata": {},
   "outputs": [],
   "source": [
    "X_record =X\n",
    "y_record = y"
   ]
  },
  {
   "cell_type": "code",
   "execution_count": 7,
   "id": "70691e3b-8e41-4887-8217-bfb7fb92be57",
   "metadata": {},
   "outputs": [
    {
     "name": "stdout",
     "output_type": "stream",
     "text": [
      "features in the green area: []\n",
      "features in the blue area: ['IGKC', 'PPP1R16B', 'TGFBI', 'OGN', 'FCRL1', 'TIMP1', 'IGFBP7', 'FCMR', 'IRF7', 'CTSD', 'FBLN2', 'FTL', 'BANK1', 'BGN', 'CAVIN1', 'COL1A1', 'C3', 'IL32', 'NGFR', 'LGALS3BP', 'MT1E', 'CCN2', 'SPARC', 'HSPB1', 'FSTL1', 'LRP1', 'SELL', 'CST3', 'ACTB', 'AC119396.1', 'IGLC1', 'COL3A1', 'CCDC80', 'MT2A', 'NIBAN3', 'TXNDC5', 'POU2F2', 'CD37', 'COL1A2', 'IGHG1', 'FN1', 'CNN3', 'CD63', 'ITM2B', 'IGHG4', 'ACKR1', 'ACTA2', 'IGHA1', 'CR2', 'IGKV4-1', 'BLK', 'CCL19', 'B2M', 'IGHG2', 'MS4A1', 'JCHAIN', 'CD79A', 'LTB', 'CCL18', 'FDCSP', 'PLA2G2A', 'IGHG3', 'THBS4', 'FCRL3', 'CCL17', 'IGF1', 'PAX5', 'FCGR3A', 'MYL9', 'AEBP1', 'PI16', 'PTGDS', 'IGLV3-1', 'GZMB', 'VIM', 'SULF1']\n"
     ]
    }
   ],
   "source": [
    "from boruta import BorutaPy\n",
    "from sklearn.ensemble import RandomForestRegressor\n",
    "import numpy as np\n",
    " \n",
    "rf = RandomForestRegressor(n_jobs = -1, max_depth = 5)\n",
    "boruta = BorutaPy(\n",
    "   estimator = rf, \n",
    "   n_estimators = 'auto',\n",
    "   max_iter = 3 # number of trials to perform\n",
    ")\n",
    "\n",
    "# 模型训练\n",
    "boruta.fit(np.array(X), np.array(y))\n",
    "# 输出结果\n",
    "green_area = X.columns[boruta.support_].to_list()\n",
    "blue_area  = X.columns[boruta.support_weak_].to_list()\n",
    "print('features in the green area:', green_area)\n",
    "print('features in the blue area:', blue_area)"
   ]
  },
  {
   "cell_type": "code",
   "execution_count": 8,
   "id": "ddafbed6-0796-4a22-b7a2-3ba30ede76d0",
   "metadata": {},
   "outputs": [],
   "source": [
    "df = pd.DataFrame(green_area)\n",
    "df.to_csv(\"result/green_area_RI.csv\")\n",
    "df = pd.DataFrame(blue_area)\n",
    "df.to_csv(\"result/blue_area_RI.csv\")"
   ]
  },
  {
   "cell_type": "code",
   "execution_count": null,
   "id": "f3eb97ac-3e35-4acb-8ff4-1c318581427d",
   "metadata": {},
   "outputs": [],
   "source": []
  }
 ],
 "metadata": {
  "kernelspec": {
   "display_name": "stlearn",
   "language": "python",
   "name": "stlearn"
  },
  "language_info": {
   "codemirror_mode": {
    "name": "ipython",
    "version": 3
   },
   "file_extension": ".py",
   "mimetype": "text/x-python",
   "name": "python",
   "nbconvert_exporter": "python",
   "pygments_lexer": "ipython3",
   "version": "3.8.18"
  },
  "toc-autonumbering": true,
  "toc-showcode": true
 },
 "nbformat": 4,
 "nbformat_minor": 5
}
