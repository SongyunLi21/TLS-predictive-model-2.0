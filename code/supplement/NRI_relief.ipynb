{
 "cells": [
  {
   "cell_type": "code",
   "execution_count": 1,
   "id": "423ed6a0-5cb6-4230-8772-7671125ae836",
   "metadata": {},
   "outputs": [],
   "source": [
    "library(FSinR)"
   ]
  },
  {
   "cell_type": "code",
   "execution_count": 2,
   "id": "bd3ba7e3-15e3-4d88-8561-b9c28ef2323b",
   "metadata": {},
   "outputs": [
    {
     "name": "stderr",
     "output_type": "stream",
     "text": [
      "Warning message:\n",
      "“程辑包‘Seurat’是用R版本4.2.2 来建造的”\n",
      "Attaching SeuratObject\n",
      "\n",
      "Warning message:\n",
      "“程辑包‘dplyr’是用R版本4.2.3 来建造的”\n",
      "\n",
      "载入程辑包：‘dplyr’\n",
      "\n",
      "\n",
      "The following objects are masked from ‘package:stats’:\n",
      "\n",
      "    filter, lag\n",
      "\n",
      "\n",
      "The following objects are masked from ‘package:base’:\n",
      "\n",
      "    intersect, setdiff, setequal, union\n",
      "\n",
      "\n",
      "Warning message:\n",
      "“程辑包‘patchwork’是用R版本4.2.1 来建造的”\n",
      "Warning message:\n",
      "“程辑包‘ggplot2’是用R版本4.2.2 来建造的”\n",
      "Warning message:\n",
      "“程辑包‘gridExtra’是用R版本4.2.1 来建造的”\n",
      "\n",
      "载入程辑包：‘gridExtra’\n",
      "\n",
      "\n",
      "The following object is masked from ‘package:dplyr’:\n",
      "\n",
      "    combine\n",
      "\n",
      "\n",
      "Warning message:\n",
      "“程辑包‘png’是用R版本4.2.2 来建造的”\n"
     ]
    }
   ],
   "source": [
    "library(Seurat)\n",
    "library(dplyr)\n",
    "library(patchwork)\n",
    "library(ggplot2)\n",
    "library(gridExtra)\n",
    "library(stringi)\n",
    "library(ROCit)\n",
    "library(png)\n",
    "library(patchwork)\n",
    "load(\"st/st.RData\")"
   ]
  },
  {
   "cell_type": "code",
   "execution_count": 3,
   "id": "5347d797-5d84-4288-ac76-03218b9540a7",
   "metadata": {},
   "outputs": [
    {
     "data": {
      "text/html": [
       "<table class=\"dataframe\">\n",
       "<caption>A data.frame: 5 × 5</caption>\n",
       "<thead>\n",
       "\t<tr><th></th><th scope=col>AL627309.1</th><th scope=col>AL627309.5</th><th scope=col>LINC01409</th><th scope=col>LINC01128</th><th scope=col>LINC00115</th></tr>\n",
       "\t<tr><th></th><th scope=col>&lt;dbl&gt;</th><th scope=col>&lt;dbl&gt;</th><th scope=col>&lt;dbl&gt;</th><th scope=col>&lt;dbl&gt;</th><th scope=col>&lt;dbl&gt;</th></tr>\n",
       "</thead>\n",
       "<tbody>\n",
       "\t<tr><th scope=row>a_3_AAACACCAATAACTGC-1</th><td>0</td><td>0</td><td>0</td><td>0.000000e+00</td><td>0</td></tr>\n",
       "\t<tr><th scope=row>a_3_AAACAGCTTTCAGAAG-1</th><td>0</td><td>0</td><td>0</td><td>0.000000e+00</td><td>0</td></tr>\n",
       "\t<tr><th scope=row>a_3_AAACAGGGTCTATATT-1</th><td>0</td><td>0</td><td>0</td><td>4.127115e-05</td><td>0</td></tr>\n",
       "\t<tr><th scope=row>a_3_AAACCGGGTAGGTACC-1</th><td>0</td><td>0</td><td>0</td><td>0.000000e+00</td><td>0</td></tr>\n",
       "\t<tr><th scope=row>a_3_AAACCGTTCGTCCAGG-1</th><td>0</td><td>0</td><td>0</td><td>4.127115e-05</td><td>0</td></tr>\n",
       "</tbody>\n",
       "</table>\n"
      ],
      "text/latex": [
       "A data.frame: 5 × 5\n",
       "\\begin{tabular}{r|lllll}\n",
       "  & AL627309.1 & AL627309.5 & LINC01409 & LINC01128 & LINC00115\\\\\n",
       "  & <dbl> & <dbl> & <dbl> & <dbl> & <dbl>\\\\\n",
       "\\hline\n",
       "\ta\\_3\\_AAACACCAATAACTGC-1 & 0 & 0 & 0 & 0.000000e+00 & 0\\\\\n",
       "\ta\\_3\\_AAACAGCTTTCAGAAG-1 & 0 & 0 & 0 & 0.000000e+00 & 0\\\\\n",
       "\ta\\_3\\_AAACAGGGTCTATATT-1 & 0 & 0 & 0 & 4.127115e-05 & 0\\\\\n",
       "\ta\\_3\\_AAACCGGGTAGGTACC-1 & 0 & 0 & 0 & 0.000000e+00 & 0\\\\\n",
       "\ta\\_3\\_AAACCGTTCGTCCAGG-1 & 0 & 0 & 0 & 4.127115e-05 & 0\\\\\n",
       "\\end{tabular}\n"
      ],
      "text/markdown": [
       "\n",
       "A data.frame: 5 × 5\n",
       "\n",
       "| <!--/--> | AL627309.1 &lt;dbl&gt; | AL627309.5 &lt;dbl&gt; | LINC01409 &lt;dbl&gt; | LINC01128 &lt;dbl&gt; | LINC00115 &lt;dbl&gt; |\n",
       "|---|---|---|---|---|---|\n",
       "| a_3_AAACACCAATAACTGC-1 | 0 | 0 | 0 | 0.000000e+00 | 0 |\n",
       "| a_3_AAACAGCTTTCAGAAG-1 | 0 | 0 | 0 | 0.000000e+00 | 0 |\n",
       "| a_3_AAACAGGGTCTATATT-1 | 0 | 0 | 0 | 4.127115e-05 | 0 |\n",
       "| a_3_AAACCGGGTAGGTACC-1 | 0 | 0 | 0 | 0.000000e+00 | 0 |\n",
       "| a_3_AAACCGTTCGTCCAGG-1 | 0 | 0 | 0 | 4.127115e-05 | 0 |\n",
       "\n"
      ],
      "text/plain": [
       "                       AL627309.1 AL627309.5 LINC01409 LINC01128    LINC00115\n",
       "a_3_AAACACCAATAACTGC-1 0          0          0         0.000000e+00 0        \n",
       "a_3_AAACAGCTTTCAGAAG-1 0          0          0         0.000000e+00 0        \n",
       "a_3_AAACAGGGTCTATATT-1 0          0          0         4.127115e-05 0        \n",
       "a_3_AAACCGGGTAGGTACC-1 0          0          0         0.000000e+00 0        \n",
       "a_3_AAACCGTTCGTCCAGG-1 0          0          0         4.127115e-05 0        "
      ]
     },
     "metadata": {},
     "output_type": "display_data"
    }
   ],
   "source": [
    "count<- st@assays$Spatial@counts\n",
    "count<- (count-min(count))/(max(count)-min(count))\n",
    "count<-data.frame(count)\n",
    "count<-t(count)\n",
    "count<-data.frame(count)\n",
    "colnames(count)<-rownames(st@assays$Spatial@counts)\n",
    "rownames(count)<-colnames(st@assays$Spatial@counts)\n",
    "gene<-rownames(st@assays$Spatial@counts)\n",
    "head(count[1:5,1:5])\n",
    "target<-data.frame(st@meta.data[,\"TLS_2_cat_annot\"])\n",
    "y<-c()\n",
    "for(i in target$st.meta.data....TLS_2_cat_annot..){\n",
    "  if(is.na(i)){\n",
    "    y<-append(y,0)\n",
    "  }else if(i==\"TLS\"){\n",
    "    y<-append(y,1)\n",
    "  }else{\n",
    "    y<-append(y,0)\n",
    "  }\n",
    "}\n",
    "y<-as.data.frame(y)\n",
    "colnames(y)=\"y\"\n",
    "rownames(y)<-rownames(target)\n",
    "count<-cbind(count,y)"
   ]
  },
  {
   "cell_type": "code",
   "execution_count": 4,
   "id": "903832a9-84c3-4ad3-949d-b6760819f129",
   "metadata": {},
   "outputs": [],
   "source": [
    "set.seed(123) \n",
    "count_positive<-subset(count,count$y==1)\n",
    "count_negative<-subset(count,count$y==0)\n",
    "train <- sample(1:nrow(count_positive),nrow(count_positive)*0.05)\n",
    "count_positive_train <- count_positive[train,]\n",
    "train <- sample(1:nrow(count_negative),nrow(count_negative)*0.05)\n",
    "count_negative_train <- count_negative[train,]\n",
    "count_train<-rbind(count_negative_train,count_positive_train)"
   ]
  },
  {
   "cell_type": "code",
   "execution_count": 5,
   "id": "fd25cf86-9e42-43df-8a57-423352560e8c",
   "metadata": {},
   "outputs": [],
   "source": [
    "remove(st)\n",
    "remove(count)"
   ]
  },
  {
   "cell_type": "code",
   "execution_count": 6,
   "id": "1f0ca094-0235-4b3b-8432-c903456f6363",
   "metadata": {},
   "outputs": [
    {
     "name": "stdout",
     "output_type": "stream",
     "text": [
      "Time difference of 5.107238 hours\n"
     ]
    }
   ],
   "source": [
    "library(FSinR)\n",
    "RFSM_evaluator <- ReliefFeatureSetMeasure(iterations = 1,kNeightbours = 3)\n",
    "feature<-c()\n",
    "s=Sys.time()\n",
    "for(i in gene){\n",
    "    feature<-append(feature,RFSM_evaluator(count_train,'y',i))\n",
    "}\n",
    "e=Sys.time()\n",
    "print(e-s)"
   ]
  },
  {
   "cell_type": "code",
   "execution_count": 7,
   "id": "cadd44a6-a4b1-47ef-883c-e1ba62b1756b",
   "metadata": {},
   "outputs": [
    {
     "data": {
      "text/html": [
       "228"
      ],
      "text/latex": [
       "228"
      ],
      "text/markdown": [
       "228"
      ],
      "text/plain": [
       "[1] 228"
      ]
     },
     "metadata": {},
     "output_type": "display_data"
    }
   ],
   "source": [
    "length(rownames(count_train))"
   ]
  },
  {
   "cell_type": "code",
   "execution_count": 8,
   "id": "29d313c1-4144-4972-ad6e-609162807fb4",
   "metadata": {},
   "outputs": [],
   "source": [
    "write.csv(feature,\"NRI_RELIEF.csv\")"
   ]
  },
  {
   "cell_type": "code",
   "execution_count": 9,
   "id": "3a85acec-d8d3-4c68-bd17-720bd00d1dc4",
   "metadata": {},
   "outputs": [],
   "source": [
    "names(feature)<-gene\n",
    "write.csv(feature,\"NRI_RELIEF_1.csv\")"
   ]
  },
  {
   "cell_type": "code",
   "execution_count": null,
   "id": "8e0b5435-0835-46c6-912d-19961d242f58",
   "metadata": {},
   "outputs": [],
   "source": []
  }
 ],
 "metadata": {
  "kernelspec": {
   "display_name": "R",
   "language": "R",
   "name": "ir"
  },
  "language_info": {
   "codemirror_mode": "r",
   "file_extension": ".r",
   "mimetype": "text/x-r-source",
   "name": "R",
   "pygments_lexer": "r",
   "version": "4.2.0"
  }
 },
 "nbformat": 4,
 "nbformat_minor": 5
}
