{
 "cells": [
  {
   "cell_type": "code",
   "execution_count": 1,
   "id": "2088111a-91ab-4c6d-adb6-9a19c3f6226d",
   "metadata": {},
   "outputs": [],
   "source": [
    "import numpy as np\n",
    "import pandas as pd\n",
    "import matplotlib.pyplot as plt"
   ]
  },
  {
   "cell_type": "code",
   "execution_count": 2,
   "id": "d1737796-d164-4026-824c-ff3c9706781a",
   "metadata": {},
   "outputs": [],
   "source": [
    "def transformation(Y):#把male,female转化成0,1,数据清洗\n",
    "    l=[]\n",
    "    n = 0\n",
    "    for y in Y:\n",
    "        if y =='TLS':\n",
    "            n = n+1\n",
    "            l.append(1)\n",
    "        else:\n",
    "            l.append(0)\n",
    "    print(n)\n",
    "    return np.array(l)\n",
    "def count(Y):\n",
    "    n = 0\n",
    "    for y in Y:\n",
    "        if y ==1:\n",
    "            n = n+1\n",
    "    print(n)"
   ]
  },
  {
   "cell_type": "code",
   "execution_count": 3,
   "id": "c536bf9f-01d5-44ad-8079-788a455e5ada",
   "metadata": {},
   "outputs": [
    {
     "name": "stdout",
     "output_type": "stream",
     "text": [
      "33\n",
      "153\n",
      "78\n"
     ]
    }
   ],
   "source": [
    "sample = [\"a_3\",\"b_1\",\"b_18\"]\n",
    "X_list = []\n",
    "y_list = []\n",
    "Gene = []\n",
    "from sklearn.preprocessing import MinMaxScaler\n",
    "scaler = MinMaxScaler()\n",
    "#load data\n",
    "for i in range(len(sample)):\n",
    "    path = 'result/'+sample[i]+'_annotation.csv'\n",
    "    data = pd.read_csv(path)\n",
    "    c = data.shape[0]\n",
    "    path = \"result/\"+sample[i]+\"_matrix.csv\"\n",
    "    X_data = pd.read_csv(path)\n",
    "    #X_data = X_data.loc[gene]\n",
    "    l_gene = X_data[\"Unnamed: 0\"]\n",
    "    Gene.append(l_gene)\n",
    "    bar = X_data.columns[1:]\n",
    "    l_bar=[]\n",
    "    for j in bar:\n",
    "        j=str(j).replace(\"X\",\"\")\n",
    "        l_bar.append(j)\n",
    "    a = X_data.shape[0]\n",
    "    b = X_data.shape[1]-1\n",
    "    X_data = np.array(X_data[bar])\n",
    "    X_scaler = scaler.fit(X_data)                                   \n",
    "    X_data = X_scaler.transform(X_data)                                    \n",
    "    X_data = pd.DataFrame(X_data.T, columns = l_gene, index = l_bar)\n",
    "    X_list.append(X_data)\n",
    "    #-------创建字典----------\n",
    "    D1 = dict()\n",
    "    key = []\n",
    "    for l in range(c):\n",
    "        x = '-'+str(i)\n",
    "        key1 = data['Unnamed: 0'][l]\n",
    "        value1 = data['TLS_2_cat_annot'][l]\n",
    "        key1 = str(key1).replace('-1','.1')\n",
    "        key.append(key1)\n",
    "        D1[key1] = value1\n",
    "    #-----连接两个数据集,创建输出数据集-------\n",
    "    L1 = list()\n",
    "    for j in l_bar:\n",
    "        if j in key:\n",
    "            tls = D1[j]\n",
    "        else:\n",
    "            tls = 'NO_TLS'\n",
    "        L1.append(tls)\n",
    "    y_data = transformation(L1)\n",
    "    y_data = y_data.ravel()\n",
    "    y_list.append(y_data)\n",
    "    "
   ]
  },
  {
   "cell_type": "code",
   "execution_count": 4,
   "id": "fb93963c-994f-4afb-8b4e-c4458e90b643",
   "metadata": {},
   "outputs": [],
   "source": [
    "intersection=[]\n",
    "for i in range(len(Gene)):\n",
    "    if i==0:\n",
    "        intersection=set(Gene[i])\n",
    "    else:\n",
    "        intersection=set(intersection).intersection(set(Gene[i]))\n",
    "        \n",
    "intersection = list(intersection)        \n",
    "for i in range(len(sample)):\n",
    "    X_data=X_list[i]\n",
    "    y_data=y_list[i]\n",
    "    X_data=X_data[intersection]\n",
    "    X_data = np.array(X_data).tolist()\n",
    "    y_data = np.array(y_data).tolist()\n",
    "    if i==0:\n",
    "        X = X_data\n",
    "        y = y_data\n",
    "    else:\n",
    "        X = X + X_data\n",
    "        y = y + y_data\n",
    "\n",
    "X = pd.DataFrame(X)\n",
    "X = np.array(X)\n",
    "y = np.array(y)\n",
    "X = pd.DataFrame(X,columns = intersection)"
   ]
  },
  {
   "cell_type": "code",
   "execution_count": 5,
   "id": "63ccf4b3-b50c-43f4-8cc4-5e13d0def35a",
   "metadata": {},
   "outputs": [],
   "source": [
    "X_record =X\n",
    "y_record = y"
   ]
  },
  {
   "cell_type": "code",
   "execution_count": 6,
   "id": "ff795240-5d71-4f3d-94e0-5cbe7cd2fffc",
   "metadata": {},
   "outputs": [
    {
     "data": {
      "text/plain": [
       "(4571, 16865)"
      ]
     },
     "execution_count": 6,
     "metadata": {},
     "output_type": "execute_result"
    }
   ],
   "source": [
    "X_record.shape"
   ]
  },
  {
   "cell_type": "code",
   "execution_count": 7,
   "id": "21aa33ec-531c-44fa-a431-a8d9c3e081ba",
   "metadata": {},
   "outputs": [
    {
     "name": "stdout",
     "output_type": "stream",
     "text": [
      "features in the green area: ['NDRG1', 'CD52', 'IGHGP', 'SPP1', 'IGHG1', 'IGLC2', 'PTGDS', 'SPARC', 'IGHG4', 'IGHM', 'CD24', 'IGLC3']\n",
      "features in the blue area: ['IGHA1', 'PLA2G2D', 'LTB']\n"
     ]
    }
   ],
   "source": [
    "from boruta import BorutaPy\n",
    "from sklearn.ensemble import RandomForestRegressor\n",
    "import numpy as np\n",
    " \n",
    "rf = RandomForestRegressor(n_jobs = -1, max_depth = 5)\n",
    "boruta = BorutaPy(\n",
    "   estimator = rf, \n",
    "   n_estimators = 'auto',\n",
    "   max_iter = 10 # number of trials to perform\n",
    ")\n",
    "\n",
    "# 模型训练\n",
    "boruta.fit(np.array(X), np.array(y))\n",
    "# 输出结果previ\n",
    "green_area = X.columns[boruta.support_].to_list()\n",
    "blue_area  = X.columns[boruta.support_weak_].to_list()\n",
    "print('features in the green area:', green_area)\n",
    "print('features in the blue area:', blue_area)"
   ]
  },
  {
   "cell_type": "code",
   "execution_count": 8,
   "id": "b12f65f0-c366-4687-b2dd-8c5740fcac27",
   "metadata": {},
   "outputs": [],
   "source": [
    "df = pd.DataFrame(green_area)\n",
    "df.to_csv(\"result/green_area_NRI.csv\")\n",
    "df = pd.DataFrame(blue_area)\n",
    "df.to_csv(\"result/blue_area_NRI.csv\")"
   ]
  },
  {
   "cell_type": "code",
   "execution_count": null,
   "id": "62093015-f48c-4f6b-866f-66e11d4e175b",
   "metadata": {},
   "outputs": [],
   "source": []
  }
 ],
 "metadata": {
  "kernelspec": {
   "display_name": "stlearn",
   "language": "python",
   "name": "stlearn"
  },
  "language_info": {
   "codemirror_mode": {
    "name": "ipython",
    "version": 3
   },
   "file_extension": ".py",
   "mimetype": "text/x-python",
   "name": "python",
   "nbconvert_exporter": "python",
   "pygments_lexer": "ipython3",
   "version": "3.8.18"
  }
 },
 "nbformat": 4,
 "nbformat_minor": 5
}
