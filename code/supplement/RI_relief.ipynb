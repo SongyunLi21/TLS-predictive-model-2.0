{
 "cells": [
  {
   "cell_type": "code",
   "execution_count": 1,
   "id": "6fd563e1-d673-455e-b798-5ec22cb606c0",
   "metadata": {},
   "outputs": [
    {
     "name": "stderr",
     "output_type": "stream",
     "text": [
      "Warning message:\n",
      "“程辑包‘Seurat’是用R版本4.2.2 来建造的”\n",
      "Attaching SeuratObject\n",
      "\n",
      "Warning message:\n",
      "“程辑包‘dplyr’是用R版本4.2.3 来建造的”\n",
      "\n",
      "载入程辑包：‘dplyr’\n",
      "\n",
      "\n",
      "The following objects are masked from ‘package:stats’:\n",
      "\n",
      "    filter, lag\n",
      "\n",
      "\n",
      "The following objects are masked from ‘package:base’:\n",
      "\n",
      "    intersect, setdiff, setequal, union\n",
      "\n",
      "\n",
      "Warning message:\n",
      "“程辑包‘patchwork’是用R版本4.2.1 来建造的”\n",
      "Warning message:\n",
      "“程辑包‘ggplot2’是用R版本4.2.2 来建造的”\n",
      "Warning message:\n",
      "“程辑包‘gridExtra’是用R版本4.2.1 来建造的”\n",
      "\n",
      "载入程辑包：‘gridExtra’\n",
      "\n",
      "\n",
      "The following object is masked from ‘package:dplyr’:\n",
      "\n",
      "    combine\n",
      "\n",
      "\n",
      "Warning message:\n",
      "“程辑包‘png’是用R版本4.2.2 来建造的”\n"
     ]
    }
   ],
   "source": [
    "library(Seurat)\n",
    "library(dplyr)\n",
    "library(patchwork)\n",
    "library(ggplot2)\n",
    "library(gridExtra)\n",
    "library(stringi)\n",
    "library(ROCit)\n",
    "library(png)\n",
    "library(patchwork)"
   ]
  },
  {
   "cell_type": "code",
   "execution_count": 2,
   "id": "967a42e3-60de-433a-86fe-49811f46c0ad",
   "metadata": {},
   "outputs": [],
   "source": [
    "load(\"dat/st.RData\")"
   ]
  },
  {
   "cell_type": "code",
   "execution_count": 3,
   "id": "e1fbe20d-e95a-4446-a023-451353fcf665",
   "metadata": {},
   "outputs": [
    {
     "name": "stderr",
     "output_type": "stream",
     "text": [
      "Warning message in asMethod(object):\n",
      "“sparse->dense coercion: allocating vector of size 1.3 GiB”\n"
     ]
    },
    {
     "data": {
      "text/html": [
       "<table class=\"dataframe\">\n",
       "<caption>A data.frame: 5 × 5</caption>\n",
       "<thead>\n",
       "\t<tr><th></th><th scope=col>SAMD11</th><th scope=col>NOC2L</th><th scope=col>KLHL17</th><th scope=col>PLEKHN1</th><th scope=col>HES4</th></tr>\n",
       "\t<tr><th></th><th scope=col>&lt;dbl&gt;</th><th scope=col>&lt;dbl&gt;</th><th scope=col>&lt;dbl&gt;</th><th scope=col>&lt;dbl&gt;</th><th scope=col>&lt;dbl&gt;</th></tr>\n",
       "</thead>\n",
       "<tbody>\n",
       "\t<tr><th scope=row>c_3_AAACAACGAATAGTTC-1</th><td>0</td><td>0.0002321802</td><td>0.0001160901</td><td>0</td><td>0.0006965405</td></tr>\n",
       "\t<tr><th scope=row>c_3_AAACAAGTATCTCCCA-1</th><td>0</td><td>0.0001160901</td><td>0.0000000000</td><td>0</td><td>0.0000000000</td></tr>\n",
       "\t<tr><th scope=row>c_3_AAACAATCTACTAGCA-1</th><td>0</td><td>0.0001160901</td><td>0.0000000000</td><td>0</td><td>0.0001160901</td></tr>\n",
       "\t<tr><th scope=row>c_3_AAACACCAATAACTGC-1</th><td>0</td><td>0.0002321802</td><td>0.0000000000</td><td>0</td><td>0.0002321802</td></tr>\n",
       "\t<tr><th scope=row>c_3_AAACAGAGCGACTCCT-1</th><td>0</td><td>0.0002321802</td><td>0.0000000000</td><td>0</td><td>0.0001160901</td></tr>\n",
       "</tbody>\n",
       "</table>\n"
      ],
      "text/latex": [
       "A data.frame: 5 × 5\n",
       "\\begin{tabular}{r|lllll}\n",
       "  & SAMD11 & NOC2L & KLHL17 & PLEKHN1 & HES4\\\\\n",
       "  & <dbl> & <dbl> & <dbl> & <dbl> & <dbl>\\\\\n",
       "\\hline\n",
       "\tc\\_3\\_AAACAACGAATAGTTC-1 & 0 & 0.0002321802 & 0.0001160901 & 0 & 0.0006965405\\\\\n",
       "\tc\\_3\\_AAACAAGTATCTCCCA-1 & 0 & 0.0001160901 & 0.0000000000 & 0 & 0.0000000000\\\\\n",
       "\tc\\_3\\_AAACAATCTACTAGCA-1 & 0 & 0.0001160901 & 0.0000000000 & 0 & 0.0001160901\\\\\n",
       "\tc\\_3\\_AAACACCAATAACTGC-1 & 0 & 0.0002321802 & 0.0000000000 & 0 & 0.0002321802\\\\\n",
       "\tc\\_3\\_AAACAGAGCGACTCCT-1 & 0 & 0.0002321802 & 0.0000000000 & 0 & 0.0001160901\\\\\n",
       "\\end{tabular}\n"
      ],
      "text/markdown": [
       "\n",
       "A data.frame: 5 × 5\n",
       "\n",
       "| <!--/--> | SAMD11 &lt;dbl&gt; | NOC2L &lt;dbl&gt; | KLHL17 &lt;dbl&gt; | PLEKHN1 &lt;dbl&gt; | HES4 &lt;dbl&gt; |\n",
       "|---|---|---|---|---|---|\n",
       "| c_3_AAACAACGAATAGTTC-1 | 0 | 0.0002321802 | 0.0001160901 | 0 | 0.0006965405 |\n",
       "| c_3_AAACAAGTATCTCCCA-1 | 0 | 0.0001160901 | 0.0000000000 | 0 | 0.0000000000 |\n",
       "| c_3_AAACAATCTACTAGCA-1 | 0 | 0.0001160901 | 0.0000000000 | 0 | 0.0001160901 |\n",
       "| c_3_AAACACCAATAACTGC-1 | 0 | 0.0002321802 | 0.0000000000 | 0 | 0.0002321802 |\n",
       "| c_3_AAACAGAGCGACTCCT-1 | 0 | 0.0002321802 | 0.0000000000 | 0 | 0.0001160901 |\n",
       "\n"
      ],
      "text/plain": [
       "                       SAMD11 NOC2L        KLHL17       PLEKHN1 HES4        \n",
       "c_3_AAACAACGAATAGTTC-1 0      0.0002321802 0.0001160901 0       0.0006965405\n",
       "c_3_AAACAAGTATCTCCCA-1 0      0.0001160901 0.0000000000 0       0.0000000000\n",
       "c_3_AAACAATCTACTAGCA-1 0      0.0001160901 0.0000000000 0       0.0001160901\n",
       "c_3_AAACACCAATAACTGC-1 0      0.0002321802 0.0000000000 0       0.0002321802\n",
       "c_3_AAACAGAGCGACTCCT-1 0      0.0002321802 0.0000000000 0       0.0001160901"
      ]
     },
     "metadata": {},
     "output_type": "display_data"
    }
   ],
   "source": [
    "count<- st@assays$Spatial@counts\n",
    "count<- (count-min(count))/(max(count)-min(count))\n",
    "count<-data.frame(count)\n",
    "count<-t(count)\n",
    "count<-data.frame(count)\n",
    "colnames(count)<-rownames(st@assays$Spatial@counts)\n",
    "rownames(count)<-colnames(st@assays$Spatial@counts)\n",
    "gene<-rownames(st@assays$Spatial@counts)\n",
    "head(count[1:5,1:5])\n",
    "target<-data.frame(st@meta.data[,\"TLS_2_cat_annot\"])\n",
    "y<-c()\n",
    "for(i in target$st.meta.data....TLS_2_cat_annot..){\n",
    "  if(is.na(i)){\n",
    "    y<-append(y,0)\n",
    "  }else if(i==\"TLS\"){\n",
    "    y<-append(y,1)\n",
    "  }else{\n",
    "    y<-append(y,0)\n",
    "  }\n",
    "}\n",
    "y<-as.data.frame(y)\n",
    "colnames(y)=\"y\"\n",
    "rownames(y)<-rownames(target)\n",
    "count<-cbind(count,y)"
   ]
  },
  {
   "cell_type": "code",
   "execution_count": 4,
   "id": "33d80d67-3e1c-46db-8c1c-c56cfdd5f5d2",
   "metadata": {},
   "outputs": [],
   "source": [
    "set.seed(123) \n",
    "count_positive<-subset(count,count$y==1)\n",
    "count_negative<-subset(count,count$y==0)\n",
    "train <- sample(1:nrow(count_positive),nrow(count_positive)*0.02)\n",
    "count_positive_train <- count_positive[train,]\n",
    "train <- sample(1:nrow(count_negative),nrow(count_negative)*0.02)\n",
    "count_negative_train <- count_negative[train,]\n",
    "count_train<-rbind(count_negative_train,count_positive_train)"
   ]
  },
  {
   "cell_type": "code",
   "execution_count": 5,
   "id": "ec55e50d-8abc-47b9-8e4b-107252dd1259",
   "metadata": {},
   "outputs": [],
   "source": [
    "remove(st)\n",
    "remove(count)"
   ]
  },
  {
   "cell_type": "code",
   "execution_count": 6,
   "id": "c44687c2-c4a0-477f-84c5-4d6426573e84",
   "metadata": {},
   "outputs": [
    {
     "name": "stdout",
     "output_type": "stream",
     "text": [
      "Time difference of 4.722742 hours\n"
     ]
    }
   ],
   "source": [
    "library(FSinR)\n",
    "RFSM_evaluator <- ReliefFeatureSetMeasure(iterations = 1,kNeightbours = 3)\n",
    "feature<-c()\n",
    "s=Sys.time()\n",
    "for(i in gene){\n",
    "    feature<-append(feature,RFSM_evaluator(count_train,'y',i))\n",
    "}\n",
    "e=Sys.time()\n",
    "print(e-s)"
   ]
  },
  {
   "cell_type": "code",
   "execution_count": 7,
   "id": "0e0b9f7d-f67d-473b-833e-210acc29e42e",
   "metadata": {},
   "outputs": [
    {
     "data": {
      "text/html": [
       "235"
      ],
      "text/latex": [
       "235"
      ],
      "text/markdown": [
       "235"
      ],
      "text/plain": [
       "[1] 235"
      ]
     },
     "metadata": {},
     "output_type": "display_data"
    }
   ],
   "source": [
    "length(rownames(count_train))"
   ]
  },
  {
   "cell_type": "code",
   "execution_count": 8,
   "id": "8d49d75b-48d9-4c98-8950-7367b4339ae1",
   "metadata": {},
   "outputs": [],
   "source": [
    "write.csv(feature,\"RI_RELIEF.csv\")"
   ]
  },
  {
   "cell_type": "code",
   "execution_count": 9,
   "id": "b40a5e8d-8d49-4090-a65f-a69577a2c07c",
   "metadata": {},
   "outputs": [],
   "source": [
    "names(feature)<-gene"
   ]
  },
  {
   "cell_type": "code",
   "execution_count": 11,
   "id": "dcf5ad04-a310-46aa-aa85-33999f87ffa1",
   "metadata": {},
   "outputs": [],
   "source": [
    "write.csv(feature,\"RI_RELIEF_1.csv\")"
   ]
  },
  {
   "cell_type": "code",
   "execution_count": null,
   "id": "8cd04fe3-6774-4af7-abb4-cdd97d73b345",
   "metadata": {},
   "outputs": [],
   "source": []
  }
 ],
 "metadata": {
  "kernelspec": {
   "display_name": "R",
   "language": "R",
   "name": "ir"
  },
  "language_info": {
   "codemirror_mode": "r",
   "file_extension": ".r",
   "mimetype": "text/x-r-source",
   "name": "R",
   "pygments_lexer": "r",
   "version": "4.2.0"
  }
 },
 "nbformat": 4,
 "nbformat_minor": 5
}
